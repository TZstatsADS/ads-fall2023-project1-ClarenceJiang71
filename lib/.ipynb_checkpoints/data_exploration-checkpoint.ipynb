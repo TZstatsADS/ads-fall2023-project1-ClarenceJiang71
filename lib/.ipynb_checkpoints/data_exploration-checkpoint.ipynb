{
 "cells": [
  {
   "cell_type": "code",
   "execution_count": 3,
   "id": "2232da59",
   "metadata": {},
   "outputs": [],
   "source": [
    "import pandas as pd \n",
    "\n",
    "def data_info_present(df):\n",
    "    print(f\"There are {df.shape[0]} rows and {df.shape[1]} features\")\n",
    "    print(\"-\" * 10)\n",
    "    print(f\"Check what features are there and the data type\")\n",
    "    print(df.dtypes)\n",
    "    print(\"-\" * 10)\n",
    "    print(\"Check how many uniques value for each column\")\n",
    "    for col in df.columns:\n",
    "        print(f\"{col}: {df[col].nunique()} unique values\")\n",
    "    print(\"-\"*10)\n",
    "    print(\"Check for missing values:\")\n",
    "    print(df.isnull().sum())\n",
    "    print(\"-\"*10)\n",
    "    print(\"Check if there is any duplicated row\")\n",
    "    print(f\"Number of duplicate rows: {df.duplicated().sum()}\")\n",
    "    \n",
    "def feature_reduction(df):\n",
    "    df_processed = df_processed.drop(columns = [\"original_hm\", \"modified\", \"ground_truth_category\"])\n",
    "    return df"
   ]
  },
  {
   "cell_type": "code",
   "execution_count": null,
   "id": "41d7a2ca",
   "metadata": {},
   "outputs": [],
   "source": []
  }
 ],
 "metadata": {
  "kernelspec": {
   "display_name": "Python 3",
   "language": "python",
   "name": "python3"
  },
  "language_info": {
   "codemirror_mode": {
    "name": "ipython",
    "version": 3
   },
   "file_extension": ".py",
   "mimetype": "text/x-python",
   "name": "python",
   "nbconvert_exporter": "python",
   "pygments_lexer": "ipython3",
   "version": "3.8.8"
  }
 },
 "nbformat": 4,
 "nbformat_minor": 5
}
